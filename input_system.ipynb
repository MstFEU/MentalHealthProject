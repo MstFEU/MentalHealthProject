{
 "cells": [
  {
   "cell_type": "markdown",
   "metadata": {},
   "source": [
    "ข้อมูลของลิสต์\r\n",
    "0\t5\t1\t2\t0\t1\t0\t4\t0\t1\t3\t2\t1\t2\t26\t1\t0\t1"
   ]
  },
  {
   "cell_type": "code",
   "execution_count": 8,
   "metadata": {},
   "outputs": [],
   "source": [
    "def self_employed(str): #defination of function\r\n",
    "    ans01 = str(input('Are you self-employed? (Yes/No): '))\r\n",
    "    \r\n",
    "    #แปลงคำตอบให้เป็นตัวเลข    \r\n",
    "    if ans01 == 'Yes':\r\n",
    "        encoded_ans01 = int(1)\r\n",
    "    elif ans01 == 'yes':\r\n",
    "        encoded_ans01 = int(1)\r\n",
    "    elif ans01 == 'No':\r\n",
    "        encoded_ans01 = int(0)\r\n",
    "    elif ans01 == 'no':\r\n",
    "        encoded_ans01 = int(0)\r\n",
    "    else:\r\n",
    "        print(\"Please choose answer between 'Yes' or 'No'\")\r\n",
    "        return(self_employed(str))\r\n",
    "    \r\n",
    "    print('Answer: %s' % ans01,  type(ans01))\r\n",
    "    print('Encoded Answer: %d' % encoded_ans01, type(encoded_ans01))\r\n",
    "    return encoded_ans01\r\n",
    "\r\n",
    "#self_employed(str) #เรียกใช้งาน"
   ]
  },
  {
   "cell_type": "code",
   "execution_count": 9,
   "metadata": {},
   "outputs": [],
   "source": [
    "def no_of_employees(int): \r\n",
    "    ans02 = int(input('How many employers are there in your company?: '))\r\n",
    "    \r\n",
    "    #เช็คคำตอบว่าอยู่ในช่วงไหน แล้ว encode\r\n",
    "    if 0 <= ans02 <= 5:\r\n",
    "        encoded_ans02 = int(0) \r\n",
    "    elif 6 <= ans02 <= 25:\r\n",
    "        encoded_ans02 = int(4)\r\n",
    "    elif 26 <= ans02 <= 100:\r\n",
    "        encoded_ans02 = int(2) \r\n",
    "    elif 101 <= ans02 <= 500:\r\n",
    "        encoded_ans02 = int(1) \r\n",
    "    elif 501 <= ans02 <= 1000:\r\n",
    "        encoded_ans02 = int(3) \r\n",
    "    elif ans02 > 1000:\r\n",
    "        encoded_ans02 = int(5) \r\n",
    "    else:\r\n",
    "        print('Invalid answer, please answer as a number')\r\n",
    "        return(no_of_employees(int))\r\n",
    "\r\n",
    "    print('Answer: %d' % ans02,  type(ans02))\r\n",
    "    print('Encoded Answer: %d' % encoded_ans02, type(encoded_ans02))\r\n",
    "    return encoded_ans02\r\n",
    "\r\n",
    "#no_of_employees(int) #เรียกใช้งาน"
   ]
  },
  {
   "cell_type": "code",
   "execution_count": 10,
   "metadata": {},
   "outputs": [],
   "source": [
    "def tech_company(str): #defination of function\r\n",
    "    ans03 = str(input('Is your company associate with technology? (Yes/No): '))\r\n",
    "    \r\n",
    "    #แปลงคำตอบให้เป็นตัวเลข    \r\n",
    "    if ans03 == 'Yes':\r\n",
    "        encoded_ans03 = int(1)\r\n",
    "    elif ans03 == 'yes':\r\n",
    "        encoded_ans03 = int(1)\r\n",
    "    elif ans03 == 'No':\r\n",
    "        encoded_ans03 = int(0)\r\n",
    "    elif ans03 == 'no':\r\n",
    "        encoded_ans03 = int(0)\r\n",
    "    else:\r\n",
    "        print(\"Please choose answer between 'Yes' or 'No'\")\r\n",
    "        return(tech_company(str))\r\n",
    "    \r\n",
    "    print('Answer: %s' % ans03,  type(ans03))\r\n",
    "    print('Encoded Answer: %d' % encoded_ans03, type(encoded_ans03))\r\n",
    "    return encoded_ans03\r\n",
    "\r\n",
    "#tech_company(str) #เรียกใช้งาน"
   ]
  },
  {
   "cell_type": "code",
   "execution_count": 11,
   "metadata": {},
   "outputs": [],
   "source": [
    "def mental_healthcare_coverage(str): #defination of function\r\n",
    "    ans04 = str(input('Is your company associate with technology? (Yes/No/Not sure): '))\r\n",
    "    \r\n",
    "    #แปลงคำตอบให้เป็นตัวเลข    \r\n",
    "    if ans04 == 'Yes':\r\n",
    "        encoded_ans04 = int(2)\r\n",
    "    elif ans04 == 'yes':\r\n",
    "        encoded_ans04 = int(2)\r\n",
    "    elif ans04 == 'No':\r\n",
    "        encoded_ans04 = int(1)\r\n",
    "    elif ans04 == 'no':\r\n",
    "        encoded_ans04 = int(1)\r\n",
    "    elif ans04 == 'Not sure':\r\n",
    "        encoded_ans04 = int(0)\r\n",
    "    elif ans04 == 'not sure':\r\n",
    "        encoded_ans04 = int(0)\r\n",
    "    else:\r\n",
    "        print(\"Please choose answer of 'Yes', 'No', and 'Not sure'\")\r\n",
    "        return(mental_healthcare_coverage(str))\r\n",
    "    \r\n",
    "    print('Answer: %s' % ans04,  type(ans04))\r\n",
    "    print('Encoded Answer: %d' % encoded_ans04, type(encoded_ans04))\r\n",
    "    return encoded_ans04\r\n",
    "\r\n",
    "#mental_healthcare_coverage(str) #เรียกใช้งาน"
   ]
  },
  {
   "cell_type": "code",
   "execution_count": 12,
   "metadata": {},
   "outputs": [],
   "source": [
    "def knowledge_about_mental_healthcare_options_workplace(str): #defination of function\r\n",
    "    ans05 = str(input('Is your company provide knowledge about mental helthcare options? (Yes/No/Not sure): '))\r\n",
    "    \r\n",
    "    #แปลงคำตอบให้เป็นตัวเลข    \r\n",
    "    if ans05 == 'Yes':\r\n",
    "        encoded_ans05 = int(2)\r\n",
    "    elif ans05 == 'yes':\r\n",
    "        encoded_ans05 = int(2)\r\n",
    "    elif ans05 == 'No':\r\n",
    "        encoded_ans05 = int(1)\r\n",
    "    elif ans05 == 'no':\r\n",
    "        encoded_ans05 = int(1)\r\n",
    "    elif ans05 == 'Not sure':\r\n",
    "        encoded_ans05 = int(0)\r\n",
    "    elif ans05 == 'not sure':\r\n",
    "        encoded_ans05 = int(0)\r\n",
    "    else:\r\n",
    "        print(\"Please choose answer of 'Yes', 'No', and 'Not sure'\")\r\n",
    "        return(mental_healthcare_coverage(str))\r\n",
    "    \r\n",
    "    print('Answer: %s' % ans05,  type(ans05))\r\n",
    "    print('Encoded Answer: %d' % encoded_ans05, type(encoded_ans05))\r\n",
    "    return encoded_ans05\r\n",
    "\r\n",
    "#knowledge_about_mental_healthcare_options_workplace(str) #เรียกใช้งาน"
   ]
  },
  {
   "cell_type": "code",
   "execution_count": 13,
   "metadata": {},
   "outputs": [
    {
     "name": "stdout",
     "output_type": "stream",
     "text": [
      "Answer: no <class 'str'>\n",
      "Encoded Answer: 0 <class 'int'>\n",
      "Answer: 3400 <class 'int'>\n",
      "Encoded Answer: 5 <class 'int'>\n",
      "Answer: yes <class 'str'>\n",
      "Encoded Answer: 1 <class 'int'>\n",
      "Answer: yes <class 'str'>\n",
      "Encoded Answer: 2 <class 'int'>\n",
      "Answer: not sure <class 'str'>\n",
      "Encoded Answer: 0 <class 'int'>\n",
      "[0, 5, 1, 2, 0]\n"
     ]
    }
   ],
   "source": [
    "#นำข้อมูลที่ได้มาสร้าง lists\r\n",
    "ans_list = []\r\n",
    "def list_of_ans(ans_list):\r\n",
    "    encoded_ans01 = self_employed(str)\r\n",
    "    encoded_ans02 = no_of_employees(int)\r\n",
    "    encoded_ans03 = tech_company(str)\r\n",
    "    encoded_ans04 = mental_healthcare_coverage(str)\r\n",
    "    encoded_ans05 = knowledge_about_mental_healthcare_options_workplace(str)\r\n",
    "\r\n",
    "    ans_list = [encoded_ans01, encoded_ans02, encoded_ans03, encoded_ans04, encoded_ans05]\r\n",
    "    print(ans_list)\r\n",
    "    \r\n",
    "list_of_ans(ans_list)"
   ]
  }
 ],
 "metadata": {
  "interpreter": {
   "hash": "5d97ad4eda96f4e0dcd5ae4f97368654619500468c6147550d2a1b2a1881f9a5"
  },
  "kernelspec": {
   "display_name": "Python 3.8.5 64-bit",
   "name": "python3"
  },
  "language_info": {
   "codemirror_mode": {
    "name": "ipython",
    "version": 3
   },
   "file_extension": ".py",
   "mimetype": "text/x-python",
   "name": "python",
   "nbconvert_exporter": "python",
   "pygments_lexer": "ipython3",
   "version": "3.8.5"
  },
  "orig_nbformat": 4
 },
 "nbformat": 4,
 "nbformat_minor": 2
}